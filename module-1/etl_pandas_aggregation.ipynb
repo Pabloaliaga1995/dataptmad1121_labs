{
 "cells": [
  {
   "cell_type": "markdown",
   "id": "20f67f63",
   "metadata": {},
   "source": [
    "# Data Aggregation\n",
    "\n",
    "`.groupby()`, `.agg()`"
   ]
  },
  {
   "cell_type": "markdown",
   "id": "793a297b",
   "metadata": {},
   "source": [
    "KPI Library: https://bernardmarr.com/kpi-library/"
   ]
  },
  {
   "cell_type": "code",
   "execution_count": 2,
   "id": "60f50d59",
   "metadata": {},
   "outputs": [],
   "source": [
    "import numpy as np\n",
    "import pandas as pd"
   ]
  },
  {
   "cell_type": "markdown",
   "id": "04cf8ea1",
   "metadata": {},
   "source": [
    "__As always we explore our dataset__\n",
    "\n",
    "[Original dataset](https://datos.madrid.es/portal/site/egob/menuitem.c05c1f754a33a9fbe4b2e4b284f1a5a0/?vgnextoid=67663c0a55e16710VgnVCM1000001d4a900aRCRD&vgnextchannel=374512b9ace9f310VgnVCM100000171f5a0aRCRD&vgnextfmt=default)"
   ]
  },
  {
   "cell_type": "code",
   "execution_count": 3,
   "id": "c2b67a46",
   "metadata": {},
   "outputs": [
    {
     "name": "stdout",
     "output_type": "stream",
     "text": [
      "CPU times: user 9.11 s, sys: 2.25 s, total: 11.4 s\n",
      "Wall time: 10.6 s\n"
     ]
    }
   ],
   "source": [
    "%%time\n",
    "\n",
    "parking = pd.read_parquet('./datasets/tickets_parking.parquet')\n",
    "distritos = pd.read_csv('./datasets/distritos.csv', sep='\\t')\n",
    "barrios = pd.read_csv('./datasets/barrios.csv', sep='\\t')"
   ]
  },
  {
   "cell_type": "code",
   "execution_count": 4,
   "id": "3d5ae84b",
   "metadata": {},
   "outputs": [
    {
     "name": "stdout",
     "output_type": "stream",
     "text": [
      "<class 'pandas.core.frame.DataFrame'>\n",
      "RangeIndex: 11328103 entries, 0 to 11328102\n",
      "Data columns (total 10 columns):\n",
      " #   Column                 Dtype  \n",
      "---  ------                 -----  \n",
      " 0   matricula_parquimetro  object \n",
      " 1   fecha_operacion        object \n",
      " 2   fecha_inicio           object \n",
      " 3   fecha_fin              object \n",
      " 4   cod_distrito           int64  \n",
      " 5   cod_barrio             int64  \n",
      " 6   tipo_zona              object \n",
      " 7   distintivo             object \n",
      " 8   minutos_tique          int64  \n",
      " 9   importe_tique          float64\n",
      "dtypes: float64(1), int64(3), object(6)\n",
      "memory usage: 864.3+ MB\n",
      "None\n"
     ]
    },
    {
     "data": {
      "text/html": [
       "<div>\n",
       "<style scoped>\n",
       "    .dataframe tbody tr th:only-of-type {\n",
       "        vertical-align: middle;\n",
       "    }\n",
       "\n",
       "    .dataframe tbody tr th {\n",
       "        vertical-align: top;\n",
       "    }\n",
       "\n",
       "    .dataframe thead th {\n",
       "        text-align: right;\n",
       "    }\n",
       "</style>\n",
       "<table border=\"1\" class=\"dataframe\">\n",
       "  <thead>\n",
       "    <tr style=\"text-align: right;\">\n",
       "      <th></th>\n",
       "      <th>matricula_parquimetro</th>\n",
       "      <th>fecha_operacion</th>\n",
       "      <th>fecha_inicio</th>\n",
       "      <th>fecha_fin</th>\n",
       "      <th>cod_distrito</th>\n",
       "      <th>cod_barrio</th>\n",
       "      <th>tipo_zona</th>\n",
       "      <th>distintivo</th>\n",
       "      <th>minutos_tique</th>\n",
       "      <th>importe_tique</th>\n",
       "    </tr>\n",
       "  </thead>\n",
       "  <tbody>\n",
       "    <tr>\n",
       "      <th>0</th>\n",
       "      <td>205310544</td>\n",
       "      <td>2021-06-07 12:02:28</td>\n",
       "      <td>2021-06-07 12:02:28</td>\n",
       "      <td>2021-06-07 13:22:28</td>\n",
       "      <td>5</td>\n",
       "      <td>3</td>\n",
       "      <td>AZUL</td>\n",
       "      <td>B</td>\n",
       "      <td>80</td>\n",
       "      <td>1.50</td>\n",
       "    </tr>\n",
       "    <tr>\n",
       "      <th>1</th>\n",
       "      <td>205110427</td>\n",
       "      <td>2021-05-29 09:38:58</td>\n",
       "      <td>2021-05-29 09:38:58</td>\n",
       "      <td>2021-05-29 13:28:58</td>\n",
       "      <td>5</td>\n",
       "      <td>1</td>\n",
       "      <td>AZUL</td>\n",
       "      <td>C</td>\n",
       "      <td>230</td>\n",
       "      <td>6.95</td>\n",
       "    </tr>\n",
       "    <tr>\n",
       "      <th>2</th>\n",
       "      <td>107630067</td>\n",
       "      <td>2021-04-13 11:50:28</td>\n",
       "      <td>2021-04-13 11:50:28</td>\n",
       "      <td>2021-04-13 12:20:28</td>\n",
       "      <td>7</td>\n",
       "      <td>6</td>\n",
       "      <td>VERDE</td>\n",
       "      <td>INFORMACION NO DISPONIBLE</td>\n",
       "      <td>30</td>\n",
       "      <td>0.90</td>\n",
       "    </tr>\n",
       "    <tr>\n",
       "      <th>3</th>\n",
       "      <td>109330974</td>\n",
       "      <td>2021-05-31 16:48:49</td>\n",
       "      <td>2021-05-31 16:48:49</td>\n",
       "      <td>2021-05-31 17:04:49</td>\n",
       "      <td>9</td>\n",
       "      <td>3</td>\n",
       "      <td>VERDE</td>\n",
       "      <td>B</td>\n",
       "      <td>16</td>\n",
       "      <td>0.40</td>\n",
       "    </tr>\n",
       "    <tr>\n",
       "      <th>4</th>\n",
       "      <td>703430023</td>\n",
       "      <td>2021-05-08 14:09:56</td>\n",
       "      <td>2021-05-08 14:09:56</td>\n",
       "      <td>2021-05-08 14:55:56</td>\n",
       "      <td>3</td>\n",
       "      <td>4</td>\n",
       "      <td>VERDE</td>\n",
       "      <td>B</td>\n",
       "      <td>46</td>\n",
       "      <td>1.50</td>\n",
       "    </tr>\n",
       "  </tbody>\n",
       "</table>\n",
       "</div>"
      ],
      "text/plain": [
       "  matricula_parquimetro      fecha_operacion         fecha_inicio  \\\n",
       "0             205310544  2021-06-07 12:02:28  2021-06-07 12:02:28   \n",
       "1             205110427  2021-05-29 09:38:58  2021-05-29 09:38:58   \n",
       "2             107630067  2021-04-13 11:50:28  2021-04-13 11:50:28   \n",
       "3             109330974  2021-05-31 16:48:49  2021-05-31 16:48:49   \n",
       "4             703430023  2021-05-08 14:09:56  2021-05-08 14:09:56   \n",
       "\n",
       "             fecha_fin  cod_distrito  cod_barrio tipo_zona  \\\n",
       "0  2021-06-07 13:22:28             5           3      AZUL   \n",
       "1  2021-05-29 13:28:58             5           1      AZUL   \n",
       "2  2021-04-13 12:20:28             7           6     VERDE   \n",
       "3  2021-05-31 17:04:49             9           3     VERDE   \n",
       "4  2021-05-08 14:55:56             3           4     VERDE   \n",
       "\n",
       "                  distintivo  minutos_tique  importe_tique  \n",
       "0                          B             80           1.50  \n",
       "1                          C            230           6.95  \n",
       "2  INFORMACION NO DISPONIBLE             30           0.90  \n",
       "3                          B             16           0.40  \n",
       "4                          B             46           1.50  "
      ]
     },
     "execution_count": 4,
     "metadata": {},
     "output_type": "execute_result"
    }
   ],
   "source": [
    "print(parking.info())\n",
    "parking.head()"
   ]
  },
  {
   "cell_type": "code",
   "execution_count": 5,
   "id": "c987f4cf",
   "metadata": {},
   "outputs": [
    {
     "name": "stdout",
     "output_type": "stream",
     "text": [
      "<class 'pandas.core.frame.DataFrame'>\n",
      "RangeIndex: 9 entries, 0 to 8\n",
      "Data columns (total 2 columns):\n",
      " #   Column        Non-Null Count  Dtype \n",
      "---  ------        --------------  ----- \n",
      " 0   cod_distrito  9 non-null      int64 \n",
      " 1   distrito      9 non-null      object\n",
      "dtypes: int64(1), object(1)\n",
      "memory usage: 272.0+ bytes\n",
      "None\n"
     ]
    },
    {
     "data": {
      "text/html": [
       "<div>\n",
       "<style scoped>\n",
       "    .dataframe tbody tr th:only-of-type {\n",
       "        vertical-align: middle;\n",
       "    }\n",
       "\n",
       "    .dataframe tbody tr th {\n",
       "        vertical-align: top;\n",
       "    }\n",
       "\n",
       "    .dataframe thead th {\n",
       "        text-align: right;\n",
       "    }\n",
       "</style>\n",
       "<table border=\"1\" class=\"dataframe\">\n",
       "  <thead>\n",
       "    <tr style=\"text-align: right;\">\n",
       "      <th></th>\n",
       "      <th>cod_distrito</th>\n",
       "      <th>distrito</th>\n",
       "    </tr>\n",
       "  </thead>\n",
       "  <tbody>\n",
       "    <tr>\n",
       "      <th>0</th>\n",
       "      <td>1</td>\n",
       "      <td>CENTRO</td>\n",
       "    </tr>\n",
       "    <tr>\n",
       "      <th>1</th>\n",
       "      <td>2</td>\n",
       "      <td>ARGANZUELA</td>\n",
       "    </tr>\n",
       "    <tr>\n",
       "      <th>2</th>\n",
       "      <td>3</td>\n",
       "      <td>RETIRO</td>\n",
       "    </tr>\n",
       "    <tr>\n",
       "      <th>3</th>\n",
       "      <td>4</td>\n",
       "      <td>SALAMANCA</td>\n",
       "    </tr>\n",
       "    <tr>\n",
       "      <th>4</th>\n",
       "      <td>5</td>\n",
       "      <td>CHAMARTIN</td>\n",
       "    </tr>\n",
       "  </tbody>\n",
       "</table>\n",
       "</div>"
      ],
      "text/plain": [
       "   cod_distrito    distrito\n",
       "0             1      CENTRO\n",
       "1             2  ARGANZUELA\n",
       "2             3      RETIRO\n",
       "3             4   SALAMANCA\n",
       "4             5   CHAMARTIN"
      ]
     },
     "execution_count": 5,
     "metadata": {},
     "output_type": "execute_result"
    }
   ],
   "source": [
    "print(distritos.info())\n",
    "distritos.head()"
   ]
  },
  {
   "cell_type": "code",
   "execution_count": 6,
   "id": "7e1a6e8a",
   "metadata": {},
   "outputs": [
    {
     "name": "stdout",
     "output_type": "stream",
     "text": [
      "<class 'pandas.core.frame.DataFrame'>\n",
      "RangeIndex: 49 entries, 0 to 48\n",
      "Data columns (total 3 columns):\n",
      " #   Column        Non-Null Count  Dtype \n",
      "---  ------        --------------  ----- \n",
      " 0   cod_distrito  49 non-null     int64 \n",
      " 1   cod_barrio    49 non-null     int64 \n",
      " 2   barrio        49 non-null     object\n",
      "dtypes: int64(2), object(1)\n",
      "memory usage: 1.3+ KB\n",
      "None\n"
     ]
    },
    {
     "data": {
      "text/html": [
       "<div>\n",
       "<style scoped>\n",
       "    .dataframe tbody tr th:only-of-type {\n",
       "        vertical-align: middle;\n",
       "    }\n",
       "\n",
       "    .dataframe tbody tr th {\n",
       "        vertical-align: top;\n",
       "    }\n",
       "\n",
       "    .dataframe thead th {\n",
       "        text-align: right;\n",
       "    }\n",
       "</style>\n",
       "<table border=\"1\" class=\"dataframe\">\n",
       "  <thead>\n",
       "    <tr style=\"text-align: right;\">\n",
       "      <th></th>\n",
       "      <th>cod_distrito</th>\n",
       "      <th>cod_barrio</th>\n",
       "      <th>barrio</th>\n",
       "    </tr>\n",
       "  </thead>\n",
       "  <tbody>\n",
       "    <tr>\n",
       "      <th>0</th>\n",
       "      <td>1</td>\n",
       "      <td>1</td>\n",
       "      <td>PALACIO</td>\n",
       "    </tr>\n",
       "    <tr>\n",
       "      <th>1</th>\n",
       "      <td>1</td>\n",
       "      <td>2</td>\n",
       "      <td>EMBAJADORES</td>\n",
       "    </tr>\n",
       "    <tr>\n",
       "      <th>2</th>\n",
       "      <td>1</td>\n",
       "      <td>3</td>\n",
       "      <td>CORTES</td>\n",
       "    </tr>\n",
       "    <tr>\n",
       "      <th>3</th>\n",
       "      <td>1</td>\n",
       "      <td>4</td>\n",
       "      <td>JUSTICIA</td>\n",
       "    </tr>\n",
       "    <tr>\n",
       "      <th>4</th>\n",
       "      <td>1</td>\n",
       "      <td>5</td>\n",
       "      <td>UNIVERSIDAD</td>\n",
       "    </tr>\n",
       "  </tbody>\n",
       "</table>\n",
       "</div>"
      ],
      "text/plain": [
       "   cod_distrito  cod_barrio       barrio\n",
       "0             1           1      PALACIO\n",
       "1             1           2  EMBAJADORES\n",
       "2             1           3       CORTES\n",
       "3             1           4     JUSTICIA\n",
       "4             1           5  UNIVERSIDAD"
      ]
     },
     "execution_count": 6,
     "metadata": {},
     "output_type": "execute_result"
    }
   ],
   "source": [
    "print(barrios.info())\n",
    "barrios.head()"
   ]
  },
  {
   "cell_type": "code",
   "execution_count": 7,
   "id": "9431aa8d",
   "metadata": {},
   "outputs": [
    {
     "data": {
      "text/plain": [
       "matricula_parquimetro    0\n",
       "fecha_operacion          0\n",
       "fecha_inicio             0\n",
       "fecha_fin                0\n",
       "cod_distrito             0\n",
       "cod_barrio               0\n",
       "tipo_zona                0\n",
       "distintivo               0\n",
       "minutos_tique            0\n",
       "importe_tique            0\n",
       "dtype: int64"
      ]
     },
     "execution_count": 7,
     "metadata": {},
     "output_type": "execute_result"
    }
   ],
   "source": [
    "parking.isnull().sum()"
   ]
  },
  {
   "cell_type": "markdown",
   "id": "8ca12bd8",
   "metadata": {},
   "source": [
    "__Time span__"
   ]
  },
  {
   "cell_type": "code",
   "execution_count": 8,
   "id": "bebe664c",
   "metadata": {},
   "outputs": [],
   "source": [
    "parking['fecha_operacion'] = pd.to_datetime(parking['fecha_operacion'], format=\"%Y-%m-%d %H:%M:%S\")\n",
    "\n",
    "#Para ponerlo en formato fecha\n"
   ]
  },
  {
   "cell_type": "code",
   "execution_count": 9,
   "id": "287e2105",
   "metadata": {},
   "outputs": [
    {
     "name": "stdout",
     "output_type": "stream",
     "text": [
      "<class 'pandas.core.frame.DataFrame'>\n",
      "RangeIndex: 11328103 entries, 0 to 11328102\n",
      "Data columns (total 10 columns):\n",
      " #   Column                 Dtype         \n",
      "---  ------                 -----         \n",
      " 0   matricula_parquimetro  object        \n",
      " 1   fecha_operacion        datetime64[ns]\n",
      " 2   fecha_inicio           object        \n",
      " 3   fecha_fin              object        \n",
      " 4   cod_distrito           int64         \n",
      " 5   cod_barrio             int64         \n",
      " 6   tipo_zona              object        \n",
      " 7   distintivo             object        \n",
      " 8   minutos_tique          int64         \n",
      " 9   importe_tique          float64       \n",
      "dtypes: datetime64[ns](1), float64(1), int64(3), object(5)\n",
      "memory usage: 864.3+ MB\n"
     ]
    }
   ],
   "source": [
    "parking.info()"
   ]
  },
  {
   "cell_type": "code",
   "execution_count": 10,
   "id": "38033994",
   "metadata": {},
   "outputs": [
    {
     "data": {
      "text/plain": [
       "Timedelta('90 days 23:58:34')"
      ]
     },
     "execution_count": 10,
     "metadata": {},
     "output_type": "execute_result"
    }
   ],
   "source": [
    "parking['fecha_operacion'].max() - parking['fecha_operacion'].min()"
   ]
  },
  {
   "cell_type": "code",
   "execution_count": 16,
   "id": "ae472310",
   "metadata": {},
   "outputs": [
    {
     "data": {
      "text/plain": [
       "pandas._libs.tslibs.timestamps.Timestamp"
      ]
     },
     "execution_count": 16,
     "metadata": {},
     "output_type": "execute_result"
    }
   ],
   "source": [
    "variable = parking['fecha_operacion'].max()\n",
    "type(variable)\n",
    "#Timestamp = tiempo"
   ]
  },
  {
   "cell_type": "code",
   "execution_count": 12,
   "id": "58c788ce",
   "metadata": {},
   "outputs": [
    {
     "data": {
      "text/plain": [
       "Timestamp('2021-04-01 00:01:13')"
      ]
     },
     "execution_count": 12,
     "metadata": {},
     "output_type": "execute_result"
    }
   ],
   "source": [
    "parking['fecha_operacion'].min()"
   ]
  },
  {
   "cell_type": "markdown",
   "id": "130fd8d5",
   "metadata": {},
   "source": [
    "__Data Manipulation__"
   ]
  },
  {
   "cell_type": "code",
   "execution_count": 13,
   "id": "3189d83e",
   "metadata": {},
   "outputs": [
    {
     "name": "stdout",
     "output_type": "stream",
     "text": [
      "CPU times: user 4.3 s, sys: 1.89 s, total: 6.19 s\n",
      "Wall time: 6.98 s\n"
     ]
    },
    {
     "data": {
      "text/html": [
       "<div>\n",
       "<style scoped>\n",
       "    .dataframe tbody tr th:only-of-type {\n",
       "        vertical-align: middle;\n",
       "    }\n",
       "\n",
       "    .dataframe tbody tr th {\n",
       "        vertical-align: top;\n",
       "    }\n",
       "\n",
       "    .dataframe thead th {\n",
       "        text-align: right;\n",
       "    }\n",
       "</style>\n",
       "<table border=\"1\" class=\"dataframe\">\n",
       "  <thead>\n",
       "    <tr style=\"text-align: right;\">\n",
       "      <th></th>\n",
       "      <th>matricula_parquimetro</th>\n",
       "      <th>fecha_operacion</th>\n",
       "      <th>fecha_inicio</th>\n",
       "      <th>fecha_fin</th>\n",
       "      <th>cod_distrito</th>\n",
       "      <th>cod_barrio</th>\n",
       "      <th>tipo_zona</th>\n",
       "      <th>distintivo</th>\n",
       "      <th>minutos_tique</th>\n",
       "      <th>importe_tique</th>\n",
       "      <th>distrito</th>\n",
       "    </tr>\n",
       "  </thead>\n",
       "  <tbody>\n",
       "    <tr>\n",
       "      <th>0</th>\n",
       "      <td>205310544</td>\n",
       "      <td>2021-06-07 12:02:28</td>\n",
       "      <td>2021-06-07 12:02:28</td>\n",
       "      <td>2021-06-07 13:22:28</td>\n",
       "      <td>5</td>\n",
       "      <td>3</td>\n",
       "      <td>AZUL</td>\n",
       "      <td>B</td>\n",
       "      <td>80</td>\n",
       "      <td>1.50</td>\n",
       "      <td>CHAMARTIN</td>\n",
       "    </tr>\n",
       "    <tr>\n",
       "      <th>1</th>\n",
       "      <td>205110427</td>\n",
       "      <td>2021-05-29 09:38:58</td>\n",
       "      <td>2021-05-29 09:38:58</td>\n",
       "      <td>2021-05-29 13:28:58</td>\n",
       "      <td>5</td>\n",
       "      <td>1</td>\n",
       "      <td>AZUL</td>\n",
       "      <td>C</td>\n",
       "      <td>230</td>\n",
       "      <td>6.95</td>\n",
       "      <td>CHAMARTIN</td>\n",
       "    </tr>\n",
       "    <tr>\n",
       "      <th>2</th>\n",
       "      <td>APP-MOVIL</td>\n",
       "      <td>2021-06-03 15:03:02</td>\n",
       "      <td>2021-06-03 15:03:01</td>\n",
       "      <td>2021-06-03 15:40:01</td>\n",
       "      <td>5</td>\n",
       "      <td>4</td>\n",
       "      <td>AZUL</td>\n",
       "      <td>B</td>\n",
       "      <td>37</td>\n",
       "      <td>0.75</td>\n",
       "      <td>CHAMARTIN</td>\n",
       "    </tr>\n",
       "    <tr>\n",
       "      <th>3</th>\n",
       "      <td>APP-MOVIL</td>\n",
       "      <td>2021-05-18 20:14:37</td>\n",
       "      <td>2021-05-18 20:14:37</td>\n",
       "      <td>2021-05-19 09:01:37</td>\n",
       "      <td>5</td>\n",
       "      <td>2</td>\n",
       "      <td>AZUL</td>\n",
       "      <td>C</td>\n",
       "      <td>47</td>\n",
       "      <td>0.70</td>\n",
       "      <td>CHAMARTIN</td>\n",
       "    </tr>\n",
       "    <tr>\n",
       "      <th>4</th>\n",
       "      <td>APP-MOVIL</td>\n",
       "      <td>2021-04-20 13:27:14</td>\n",
       "      <td>2021-04-20 13:27:14</td>\n",
       "      <td>2021-04-20 17:27:14</td>\n",
       "      <td>5</td>\n",
       "      <td>4</td>\n",
       "      <td>AZUL</td>\n",
       "      <td>B</td>\n",
       "      <td>240</td>\n",
       "      <td>8.20</td>\n",
       "      <td>CHAMARTIN</td>\n",
       "    </tr>\n",
       "  </tbody>\n",
       "</table>\n",
       "</div>"
      ],
      "text/plain": [
       "  matricula_parquimetro     fecha_operacion         fecha_inicio  \\\n",
       "0             205310544 2021-06-07 12:02:28  2021-06-07 12:02:28   \n",
       "1             205110427 2021-05-29 09:38:58  2021-05-29 09:38:58   \n",
       "2             APP-MOVIL 2021-06-03 15:03:02  2021-06-03 15:03:01   \n",
       "3             APP-MOVIL 2021-05-18 20:14:37  2021-05-18 20:14:37   \n",
       "4             APP-MOVIL 2021-04-20 13:27:14  2021-04-20 13:27:14   \n",
       "\n",
       "             fecha_fin  cod_distrito  cod_barrio tipo_zona distintivo  \\\n",
       "0  2021-06-07 13:22:28             5           3      AZUL          B   \n",
       "1  2021-05-29 13:28:58             5           1      AZUL          C   \n",
       "2  2021-06-03 15:40:01             5           4      AZUL          B   \n",
       "3  2021-05-19 09:01:37             5           2      AZUL          C   \n",
       "4  2021-04-20 17:27:14             5           4      AZUL          B   \n",
       "\n",
       "   minutos_tique  importe_tique   distrito  \n",
       "0             80           1.50  CHAMARTIN  \n",
       "1            230           6.95  CHAMARTIN  \n",
       "2             37           0.75  CHAMARTIN  \n",
       "3             47           0.70  CHAMARTIN  \n",
       "4            240           8.20  CHAMARTIN  "
      ]
     },
     "execution_count": 13,
     "metadata": {},
     "output_type": "execute_result"
    }
   ],
   "source": [
    "%%time\n",
    "# Analizamos por distrito nuestra información\n",
    "p_distritos = pd.merge(parking, distritos)\n",
    "p_distritos.head()"
   ]
  },
  {
   "cell_type": "code",
   "execution_count": 17,
   "id": "aef92cee",
   "metadata": {},
   "outputs": [
    {
     "data": {
      "text/plain": [
       "array(['CHAMARTIN'], dtype=object)"
      ]
     },
     "execution_count": 17,
     "metadata": {},
     "output_type": "execute_result"
    }
   ],
   "source": [
    "just_checking = p_distritos[p_distritos['cod_distrito'].isin([5])]['distrito'] #Al añadir el último corchete, creamos una nueva Serie. Sin él, estaríamos generando un dataframe del valor 5, que sería del distrito Chamartin.\n",
    "just_checking.unique()"
   ]
  },
  {
   "cell_type": "markdown",
   "id": "96f8ddd5",
   "metadata": {},
   "source": [
    "---"
   ]
  },
  {
   "cell_type": "markdown",
   "id": "418690e3",
   "metadata": {},
   "source": [
    "## The `df.groupby()` object"
   ]
  },
  {
   "cell_type": "code",
   "execution_count": 21,
   "id": "5615ffdd",
   "metadata": {},
   "outputs": [
    {
     "name": "stdout",
     "output_type": "stream",
     "text": [
      "CPU times: user 359 µs, sys: 6 µs, total: 365 µs\n",
      "Wall time: 373 µs\n"
     ]
    },
    {
     "data": {
      "text/plain": [
       "<pandas.core.groupby.generic.DataFrameGroupBy object at 0x7f77d8d56c10>"
      ]
     },
     "execution_count": 21,
     "metadata": {},
     "output_type": "execute_result"
    }
   ],
   "source": [
    "%%time\n",
    "# agrupar las filas por una columna\n",
    "groupby_object = p_distritos.groupby(['distrito'])\n",
    "groupby_object"
   ]
  },
  {
   "cell_type": "markdown",
   "id": "9a2fac7b",
   "metadata": {},
   "source": [
    "## The `.agg()` method"
   ]
  },
  {
   "cell_type": "code",
   "execution_count": 25,
   "id": "e5ef4abf",
   "metadata": {},
   "outputs": [
    {
     "name": "stdout",
     "output_type": "stream",
     "text": [
      "CPU times: user 223 ms, sys: 2.91 ms, total: 226 ms\n",
      "Wall time: 223 ms\n"
     ]
    },
    {
     "data": {
      "text/html": [
       "<div>\n",
       "<style scoped>\n",
       "    .dataframe tbody tr th:only-of-type {\n",
       "        vertical-align: middle;\n",
       "    }\n",
       "\n",
       "    .dataframe tbody tr th {\n",
       "        vertical-align: top;\n",
       "    }\n",
       "\n",
       "    .dataframe thead th {\n",
       "        text-align: right;\n",
       "    }\n",
       "</style>\n",
       "<table border=\"1\" class=\"dataframe\">\n",
       "  <thead>\n",
       "    <tr style=\"text-align: right;\">\n",
       "      <th></th>\n",
       "      <th>distrito</th>\n",
       "      <th>minutos_tique</th>\n",
       "      <th>importe_tique</th>\n",
       "    </tr>\n",
       "  </thead>\n",
       "  <tbody>\n",
       "    <tr>\n",
       "      <th>0</th>\n",
       "      <td>CHAMARTIN</td>\n",
       "      <td>165656931</td>\n",
       "      <td>3388531.35</td>\n",
       "    </tr>\n",
       "    <tr>\n",
       "      <th>1</th>\n",
       "      <td>CHAMBERI</td>\n",
       "      <td>118055469</td>\n",
       "      <td>2445778.20</td>\n",
       "    </tr>\n",
       "    <tr>\n",
       "      <th>2</th>\n",
       "      <td>SALAMANCA</td>\n",
       "      <td>110485248</td>\n",
       "      <td>2327083.90</td>\n",
       "    </tr>\n",
       "    <tr>\n",
       "      <th>3</th>\n",
       "      <td>RETIRO</td>\n",
       "      <td>88681385</td>\n",
       "      <td>1871270.25</td>\n",
       "    </tr>\n",
       "    <tr>\n",
       "      <th>4</th>\n",
       "      <td>TETUAN</td>\n",
       "      <td>85979598</td>\n",
       "      <td>1708664.30</td>\n",
       "    </tr>\n",
       "    <tr>\n",
       "      <th>5</th>\n",
       "      <td>ARGANZUELA</td>\n",
       "      <td>85946844</td>\n",
       "      <td>1686112.80</td>\n",
       "    </tr>\n",
       "    <tr>\n",
       "      <th>6</th>\n",
       "      <td>MONCLOA</td>\n",
       "      <td>65506750</td>\n",
       "      <td>963914.80</td>\n",
       "    </tr>\n",
       "    <tr>\n",
       "      <th>7</th>\n",
       "      <td>FUENCARRAL</td>\n",
       "      <td>32840874</td>\n",
       "      <td>566395.05</td>\n",
       "    </tr>\n",
       "    <tr>\n",
       "      <th>8</th>\n",
       "      <td>CENTRO</td>\n",
       "      <td>28905504</td>\n",
       "      <td>332084.35</td>\n",
       "    </tr>\n",
       "  </tbody>\n",
       "</table>\n",
       "</div>"
      ],
      "text/plain": [
       "     distrito  minutos_tique  importe_tique\n",
       "0   CHAMARTIN      165656931     3388531.35\n",
       "1    CHAMBERI      118055469     2445778.20\n",
       "2   SALAMANCA      110485248     2327083.90\n",
       "3      RETIRO       88681385     1871270.25\n",
       "4      TETUAN       85979598     1708664.30\n",
       "5  ARGANZUELA       85946844     1686112.80\n",
       "6     MONCLOA       65506750      963914.80\n",
       "7  FUENCARRAL       32840874      566395.05\n",
       "8      CENTRO       28905504      332084.35"
      ]
     },
     "execution_count": 25,
     "metadata": {},
     "output_type": "execute_result"
    }
   ],
   "source": [
    "%%time\n",
    "#la \\ es para seguir abajo\n",
    "total_distritos = groupby_object[['minutos_tique', 'importe_tique']]\\\n",
    "                  .sum().sort_values(by='importe_tique', ascending=False).reset_index()\n",
    "total_distritos"
   ]
  },
  {
   "cell_type": "code",
   "execution_count": 26,
   "id": "59f691b2",
   "metadata": {},
   "outputs": [
    {
     "data": {
      "text/html": [
       "<div>\n",
       "<style scoped>\n",
       "    .dataframe tbody tr th:only-of-type {\n",
       "        vertical-align: middle;\n",
       "    }\n",
       "\n",
       "    .dataframe tbody tr th {\n",
       "        vertical-align: top;\n",
       "    }\n",
       "\n",
       "    .dataframe thead th {\n",
       "        text-align: right;\n",
       "    }\n",
       "</style>\n",
       "<table border=\"1\" class=\"dataframe\">\n",
       "  <thead>\n",
       "    <tr style=\"text-align: right;\">\n",
       "      <th></th>\n",
       "      <th>distrito</th>\n",
       "      <th>minutos_tique</th>\n",
       "      <th>importe_tique</th>\n",
       "    </tr>\n",
       "  </thead>\n",
       "  <tbody>\n",
       "    <tr>\n",
       "      <th>0</th>\n",
       "      <td>CHAMBERI</td>\n",
       "      <td>70.326578</td>\n",
       "      <td>1.456969</td>\n",
       "    </tr>\n",
       "    <tr>\n",
       "      <th>1</th>\n",
       "      <td>MONCLOA</td>\n",
       "      <td>97.403172</td>\n",
       "      <td>1.433262</td>\n",
       "    </tr>\n",
       "    <tr>\n",
       "      <th>2</th>\n",
       "      <td>RETIRO</td>\n",
       "      <td>66.536256</td>\n",
       "      <td>1.403985</td>\n",
       "    </tr>\n",
       "    <tr>\n",
       "      <th>3</th>\n",
       "      <td>SALAMANCA</td>\n",
       "      <td>66.000824</td>\n",
       "      <td>1.390135</td>\n",
       "    </tr>\n",
       "    <tr>\n",
       "      <th>4</th>\n",
       "      <td>ARGANZUELA</td>\n",
       "      <td>68.599039</td>\n",
       "      <td>1.345782</td>\n",
       "    </tr>\n",
       "    <tr>\n",
       "      <th>5</th>\n",
       "      <td>CHAMARTIN</td>\n",
       "      <td>63.834852</td>\n",
       "      <td>1.305749</td>\n",
       "    </tr>\n",
       "    <tr>\n",
       "      <th>6</th>\n",
       "      <td>TETUAN</td>\n",
       "      <td>64.466777</td>\n",
       "      <td>1.281142</td>\n",
       "    </tr>\n",
       "    <tr>\n",
       "      <th>7</th>\n",
       "      <td>CENTRO</td>\n",
       "      <td>104.091958</td>\n",
       "      <td>1.195873</td>\n",
       "    </tr>\n",
       "    <tr>\n",
       "      <th>8</th>\n",
       "      <td>FUENCARRAL</td>\n",
       "      <td>64.305482</td>\n",
       "      <td>1.109054</td>\n",
       "    </tr>\n",
       "  </tbody>\n",
       "</table>\n",
       "</div>"
      ],
      "text/plain": [
       "     distrito  minutos_tique  importe_tique\n",
       "0    CHAMBERI      70.326578       1.456969\n",
       "1     MONCLOA      97.403172       1.433262\n",
       "2      RETIRO      66.536256       1.403985\n",
       "3   SALAMANCA      66.000824       1.390135\n",
       "4  ARGANZUELA      68.599039       1.345782\n",
       "5   CHAMARTIN      63.834852       1.305749\n",
       "6      TETUAN      64.466777       1.281142\n",
       "7      CENTRO     104.091958       1.195873\n",
       "8  FUENCARRAL      64.305482       1.109054"
      ]
     },
     "execution_count": 26,
     "metadata": {},
     "output_type": "execute_result"
    }
   ],
   "source": [
    "media_distritos = p_distritos.groupby(['distrito'])[['minutos_tique', 'importe_tique']]\\\n",
    "                  .mean().sort_values(by='importe_tique', ascending=False).reset_index()\n",
    "media_distritos"
   ]
  },
  {
   "cell_type": "code",
   "execution_count": 27,
   "id": "b9988813",
   "metadata": {},
   "outputs": [
    {
     "data": {
      "text/html": [
       "<div>\n",
       "<style scoped>\n",
       "    .dataframe tbody tr th:only-of-type {\n",
       "        vertical-align: middle;\n",
       "    }\n",
       "\n",
       "    .dataframe tbody tr th {\n",
       "        vertical-align: top;\n",
       "    }\n",
       "\n",
       "    .dataframe thead tr th {\n",
       "        text-align: left;\n",
       "    }\n",
       "\n",
       "    .dataframe thead tr:last-of-type th {\n",
       "        text-align: right;\n",
       "    }\n",
       "</style>\n",
       "<table border=\"1\" class=\"dataframe\">\n",
       "  <thead>\n",
       "    <tr>\n",
       "      <th></th>\n",
       "      <th colspan=\"5\" halign=\"left\">minutos_tique</th>\n",
       "      <th colspan=\"5\" halign=\"left\">importe_tique</th>\n",
       "    </tr>\n",
       "    <tr>\n",
       "      <th></th>\n",
       "      <th>min</th>\n",
       "      <th>max</th>\n",
       "      <th>mean</th>\n",
       "      <th>median</th>\n",
       "      <th>std</th>\n",
       "      <th>min</th>\n",
       "      <th>max</th>\n",
       "      <th>mean</th>\n",
       "      <th>median</th>\n",
       "      <th>std</th>\n",
       "    </tr>\n",
       "    <tr>\n",
       "      <th>distrito</th>\n",
       "      <th></th>\n",
       "      <th></th>\n",
       "      <th></th>\n",
       "      <th></th>\n",
       "      <th></th>\n",
       "      <th></th>\n",
       "      <th></th>\n",
       "      <th></th>\n",
       "      <th></th>\n",
       "      <th></th>\n",
       "    </tr>\n",
       "  </thead>\n",
       "  <tbody>\n",
       "    <tr>\n",
       "      <th>CHAMBERI</th>\n",
       "      <td>0</td>\n",
       "      <td>480</td>\n",
       "      <td>70.326578</td>\n",
       "      <td>58.0</td>\n",
       "      <td>64.826176</td>\n",
       "      <td>0.00</td>\n",
       "      <td>8.2</td>\n",
       "      <td>1.456969</td>\n",
       "      <td>1.05</td>\n",
       "      <td>1.387285</td>\n",
       "    </tr>\n",
       "    <tr>\n",
       "      <th>ARGANZUELA</th>\n",
       "      <td>0</td>\n",
       "      <td>480</td>\n",
       "      <td>68.599039</td>\n",
       "      <td>56.0</td>\n",
       "      <td>63.364446</td>\n",
       "      <td>0.00</td>\n",
       "      <td>8.2</td>\n",
       "      <td>1.345782</td>\n",
       "      <td>1.00</td>\n",
       "      <td>1.349291</td>\n",
       "    </tr>\n",
       "    <tr>\n",
       "      <th>CHAMARTIN</th>\n",
       "      <td>1</td>\n",
       "      <td>480</td>\n",
       "      <td>63.834852</td>\n",
       "      <td>50.0</td>\n",
       "      <td>60.147019</td>\n",
       "      <td>-0.70</td>\n",
       "      <td>8.2</td>\n",
       "      <td>1.305749</td>\n",
       "      <td>1.00</td>\n",
       "      <td>1.305964</td>\n",
       "    </tr>\n",
       "    <tr>\n",
       "      <th>MONCLOA</th>\n",
       "      <td>0</td>\n",
       "      <td>66627</td>\n",
       "      <td>97.403172</td>\n",
       "      <td>60.0</td>\n",
       "      <td>135.933222</td>\n",
       "      <td>0.00</td>\n",
       "      <td>8.2</td>\n",
       "      <td>1.433262</td>\n",
       "      <td>1.00</td>\n",
       "      <td>1.331160</td>\n",
       "    </tr>\n",
       "    <tr>\n",
       "      <th>RETIRO</th>\n",
       "      <td>0</td>\n",
       "      <td>66615</td>\n",
       "      <td>66.536256</td>\n",
       "      <td>56.0</td>\n",
       "      <td>101.337261</td>\n",
       "      <td>-0.15</td>\n",
       "      <td>8.2</td>\n",
       "      <td>1.403985</td>\n",
       "      <td>1.00</td>\n",
       "      <td>1.333520</td>\n",
       "    </tr>\n",
       "    <tr>\n",
       "      <th>SALAMANCA</th>\n",
       "      <td>0</td>\n",
       "      <td>480</td>\n",
       "      <td>66.000824</td>\n",
       "      <td>51.0</td>\n",
       "      <td>63.837537</td>\n",
       "      <td>-0.05</td>\n",
       "      <td>8.2</td>\n",
       "      <td>1.390135</td>\n",
       "      <td>1.00</td>\n",
       "      <td>1.296869</td>\n",
       "    </tr>\n",
       "    <tr>\n",
       "      <th>TETUAN</th>\n",
       "      <td>0</td>\n",
       "      <td>480</td>\n",
       "      <td>64.466777</td>\n",
       "      <td>49.0</td>\n",
       "      <td>62.305050</td>\n",
       "      <td>0.00</td>\n",
       "      <td>8.2</td>\n",
       "      <td>1.281142</td>\n",
       "      <td>1.00</td>\n",
       "      <td>1.283871</td>\n",
       "    </tr>\n",
       "    <tr>\n",
       "      <th>CENTRO</th>\n",
       "      <td>0</td>\n",
       "      <td>720</td>\n",
       "      <td>104.091958</td>\n",
       "      <td>60.0</td>\n",
       "      <td>117.824642</td>\n",
       "      <td>0.00</td>\n",
       "      <td>6.0</td>\n",
       "      <td>1.195873</td>\n",
       "      <td>0.95</td>\n",
       "      <td>1.165096</td>\n",
       "    </tr>\n",
       "    <tr>\n",
       "      <th>FUENCARRAL</th>\n",
       "      <td>1</td>\n",
       "      <td>480</td>\n",
       "      <td>64.305482</td>\n",
       "      <td>46.0</td>\n",
       "      <td>64.940313</td>\n",
       "      <td>0.00</td>\n",
       "      <td>8.2</td>\n",
       "      <td>1.109054</td>\n",
       "      <td>0.80</td>\n",
       "      <td>1.067505</td>\n",
       "    </tr>\n",
       "  </tbody>\n",
       "</table>\n",
       "</div>"
      ],
      "text/plain": [
       "           minutos_tique                                       importe_tique  \\\n",
       "                     min    max        mean median         std           min   \n",
       "distrito                                                                       \n",
       "CHAMBERI               0    480   70.326578   58.0   64.826176          0.00   \n",
       "ARGANZUELA             0    480   68.599039   56.0   63.364446          0.00   \n",
       "CHAMARTIN              1    480   63.834852   50.0   60.147019         -0.70   \n",
       "MONCLOA                0  66627   97.403172   60.0  135.933222          0.00   \n",
       "RETIRO                 0  66615   66.536256   56.0  101.337261         -0.15   \n",
       "SALAMANCA              0    480   66.000824   51.0   63.837537         -0.05   \n",
       "TETUAN                 0    480   64.466777   49.0   62.305050          0.00   \n",
       "CENTRO                 0    720  104.091958   60.0  117.824642          0.00   \n",
       "FUENCARRAL             1    480   64.305482   46.0   64.940313          0.00   \n",
       "\n",
       "                                            \n",
       "            max      mean median       std  \n",
       "distrito                                    \n",
       "CHAMBERI    8.2  1.456969   1.05  1.387285  \n",
       "ARGANZUELA  8.2  1.345782   1.00  1.349291  \n",
       "CHAMARTIN   8.2  1.305749   1.00  1.305964  \n",
       "MONCLOA     8.2  1.433262   1.00  1.331160  \n",
       "RETIRO      8.2  1.403985   1.00  1.333520  \n",
       "SALAMANCA   8.2  1.390135   1.00  1.296869  \n",
       "TETUAN      8.2  1.281142   1.00  1.283871  \n",
       "CENTRO      6.0  1.195873   0.95  1.165096  \n",
       "FUENCARRAL  8.2  1.109054   0.80  1.067505  "
      ]
     },
     "execution_count": 27,
     "metadata": {},
     "output_type": "execute_result"
    }
   ],
   "source": [
    "stats_distritos = p_distritos.groupby(['distrito'])[['minutos_tique', 'importe_tique']]\\\n",
    "                  .agg(['min', 'max', 'mean', 'median', 'std'])\\\n",
    "                  .sort_values(by=('importe_tique', 'median'), ascending=False)\n",
    "#El agg saca los valores estadísticos que le indiques\n",
    "stats_distritos"
   ]
  },
  {
   "cell_type": "code",
   "execution_count": 28,
   "id": "f86eadb5",
   "metadata": {},
   "outputs": [
    {
     "data": {
      "text/plain": [
       "Index(['CHAMBERI', 'ARGANZUELA', 'CHAMARTIN', 'MONCLOA', 'RETIRO', 'SALAMANCA',\n",
       "       'TETUAN', 'CENTRO', 'FUENCARRAL'],\n",
       "      dtype='object', name='distrito')"
      ]
     },
     "execution_count": 28,
     "metadata": {},
     "output_type": "execute_result"
    }
   ],
   "source": [
    "stats_distritos.index"
   ]
  },
  {
   "cell_type": "code",
   "execution_count": 29,
   "id": "8bf64d77",
   "metadata": {},
   "outputs": [
    {
     "data": {
      "text/plain": [
       "MultiIndex([('minutos_tique',    'min'),\n",
       "            ('minutos_tique',    'max'),\n",
       "            ('minutos_tique',   'mean'),\n",
       "            ('minutos_tique', 'median'),\n",
       "            ('minutos_tique',    'std'),\n",
       "            ('importe_tique',    'min'),\n",
       "            ('importe_tique',    'max'),\n",
       "            ('importe_tique',   'mean'),\n",
       "            ('importe_tique', 'median'),\n",
       "            ('importe_tique',    'std')],\n",
       "           )"
      ]
     },
     "execution_count": 29,
     "metadata": {},
     "output_type": "execute_result"
    }
   ],
   "source": [
    "stats_distritos.columns"
   ]
  },
  {
   "cell_type": "code",
   "execution_count": 30,
   "id": "041c8650",
   "metadata": {},
   "outputs": [
    {
     "data": {
      "text/html": [
       "<div>\n",
       "<style scoped>\n",
       "    .dataframe tbody tr th:only-of-type {\n",
       "        vertical-align: middle;\n",
       "    }\n",
       "\n",
       "    .dataframe tbody tr th {\n",
       "        vertical-align: top;\n",
       "    }\n",
       "\n",
       "    .dataframe thead th {\n",
       "        text-align: right;\n",
       "    }\n",
       "</style>\n",
       "<table border=\"1\" class=\"dataframe\">\n",
       "  <thead>\n",
       "    <tr style=\"text-align: right;\">\n",
       "      <th></th>\n",
       "      <th>mean_importe</th>\n",
       "      <th>std_importe</th>\n",
       "      <th>median_minutos</th>\n",
       "    </tr>\n",
       "    <tr>\n",
       "      <th>distrito</th>\n",
       "      <th></th>\n",
       "      <th></th>\n",
       "      <th></th>\n",
       "    </tr>\n",
       "  </thead>\n",
       "  <tbody>\n",
       "    <tr>\n",
       "      <th>CENTRO</th>\n",
       "      <td>1.195873</td>\n",
       "      <td>1.165096</td>\n",
       "      <td>60.0</td>\n",
       "    </tr>\n",
       "    <tr>\n",
       "      <th>MONCLOA</th>\n",
       "      <td>1.433262</td>\n",
       "      <td>1.331160</td>\n",
       "      <td>60.0</td>\n",
       "    </tr>\n",
       "    <tr>\n",
       "      <th>CHAMBERI</th>\n",
       "      <td>1.456969</td>\n",
       "      <td>1.387285</td>\n",
       "      <td>58.0</td>\n",
       "    </tr>\n",
       "    <tr>\n",
       "      <th>ARGANZUELA</th>\n",
       "      <td>1.345782</td>\n",
       "      <td>1.349291</td>\n",
       "      <td>56.0</td>\n",
       "    </tr>\n",
       "    <tr>\n",
       "      <th>RETIRO</th>\n",
       "      <td>1.403985</td>\n",
       "      <td>1.333520</td>\n",
       "      <td>56.0</td>\n",
       "    </tr>\n",
       "    <tr>\n",
       "      <th>SALAMANCA</th>\n",
       "      <td>1.390135</td>\n",
       "      <td>1.296869</td>\n",
       "      <td>51.0</td>\n",
       "    </tr>\n",
       "    <tr>\n",
       "      <th>CHAMARTIN</th>\n",
       "      <td>1.305749</td>\n",
       "      <td>1.305964</td>\n",
       "      <td>50.0</td>\n",
       "    </tr>\n",
       "    <tr>\n",
       "      <th>TETUAN</th>\n",
       "      <td>1.281142</td>\n",
       "      <td>1.283871</td>\n",
       "      <td>49.0</td>\n",
       "    </tr>\n",
       "    <tr>\n",
       "      <th>FUENCARRAL</th>\n",
       "      <td>1.109054</td>\n",
       "      <td>1.067505</td>\n",
       "      <td>46.0</td>\n",
       "    </tr>\n",
       "  </tbody>\n",
       "</table>\n",
       "</div>"
      ],
      "text/plain": [
       "            mean_importe  std_importe  median_minutos\n",
       "distrito                                             \n",
       "CENTRO          1.195873     1.165096            60.0\n",
       "MONCLOA         1.433262     1.331160            60.0\n",
       "CHAMBERI        1.456969     1.387285            58.0\n",
       "ARGANZUELA      1.345782     1.349291            56.0\n",
       "RETIRO          1.403985     1.333520            56.0\n",
       "SALAMANCA       1.390135     1.296869            51.0\n",
       "CHAMARTIN       1.305749     1.305964            50.0\n",
       "TETUAN          1.281142     1.283871            49.0\n",
       "FUENCARRAL      1.109054     1.067505            46.0"
      ]
     },
     "execution_count": 30,
     "metadata": {},
     "output_type": "execute_result"
    }
   ],
   "source": [
    "multistats_distritos = p_distritos.groupby(['distrito'])[['minutos_tique', 'importe_tique']]\\\n",
    "                       .agg(mean_importe=('importe_tique', 'mean'),\n",
    "                            std_importe=('importe_tique', 'std'),\n",
    "                            median_minutos=('minutos_tique', 'median')).sort_values(by='median_minutos', ascending=False)\n",
    "multistats_distritos"
   ]
  },
  {
   "cell_type": "code",
   "execution_count": 31,
   "id": "87c4edde",
   "metadata": {},
   "outputs": [
    {
     "data": {
      "text/html": [
       "<div>\n",
       "<style scoped>\n",
       "    .dataframe tbody tr th:only-of-type {\n",
       "        vertical-align: middle;\n",
       "    }\n",
       "\n",
       "    .dataframe tbody tr th {\n",
       "        vertical-align: top;\n",
       "    }\n",
       "\n",
       "    .dataframe thead th {\n",
       "        text-align: right;\n",
       "    }\n",
       "</style>\n",
       "<table border=\"1\" class=\"dataframe\">\n",
       "  <thead>\n",
       "    <tr style=\"text-align: right;\">\n",
       "      <th></th>\n",
       "      <th>importe_tique</th>\n",
       "    </tr>\n",
       "    <tr>\n",
       "      <th>distrito</th>\n",
       "      <th></th>\n",
       "    </tr>\n",
       "  </thead>\n",
       "  <tbody>\n",
       "    <tr>\n",
       "      <th>CHAMARTIN</th>\n",
       "      <td>8.90</td>\n",
       "    </tr>\n",
       "    <tr>\n",
       "      <th>RETIRO</th>\n",
       "      <td>8.35</td>\n",
       "    </tr>\n",
       "    <tr>\n",
       "      <th>SALAMANCA</th>\n",
       "      <td>8.25</td>\n",
       "    </tr>\n",
       "    <tr>\n",
       "      <th>ARGANZUELA</th>\n",
       "      <td>8.20</td>\n",
       "    </tr>\n",
       "    <tr>\n",
       "      <th>CHAMBERI</th>\n",
       "      <td>8.20</td>\n",
       "    </tr>\n",
       "    <tr>\n",
       "      <th>FUENCARRAL</th>\n",
       "      <td>8.20</td>\n",
       "    </tr>\n",
       "    <tr>\n",
       "      <th>MONCLOA</th>\n",
       "      <td>8.20</td>\n",
       "    </tr>\n",
       "    <tr>\n",
       "      <th>TETUAN</th>\n",
       "      <td>8.20</td>\n",
       "    </tr>\n",
       "    <tr>\n",
       "      <th>CENTRO</th>\n",
       "      <td>6.00</td>\n",
       "    </tr>\n",
       "  </tbody>\n",
       "</table>\n",
       "</div>"
      ],
      "text/plain": [
       "            importe_tique\n",
       "distrito                 \n",
       "CHAMARTIN            8.90\n",
       "RETIRO               8.35\n",
       "SALAMANCA            8.25\n",
       "ARGANZUELA           8.20\n",
       "CHAMBERI             8.20\n",
       "FUENCARRAL           8.20\n",
       "MONCLOA              8.20\n",
       "TETUAN               8.20\n",
       "CENTRO               6.00"
      ]
     },
     "execution_count": 31,
     "metadata": {},
     "output_type": "execute_result"
    }
   ],
   "source": [
    "numpy_distritos = p_distritos.groupby(['distrito'])[['importe_tique']]\\\n",
    "                  .agg(np.ptp).sort_values(by='importe_tique', ascending=False)\n",
    "numpy_distritos"
   ]
  },
  {
   "cell_type": "code",
   "execution_count": 32,
   "id": "7163e53a",
   "metadata": {},
   "outputs": [],
   "source": [
    "def custom(col):\n",
    "    return f'{round((np.sum(col)*100)/ minutos, 2)} centimos/hora'"
   ]
  },
  {
   "cell_type": "code",
   "execution_count": 33,
   "id": "b5bac8c6",
   "metadata": {},
   "outputs": [
    {
     "data": {
      "text/html": [
       "<div>\n",
       "<style scoped>\n",
       "    .dataframe tbody tr th:only-of-type {\n",
       "        vertical-align: middle;\n",
       "    }\n",
       "\n",
       "    .dataframe tbody tr th {\n",
       "        vertical-align: top;\n",
       "    }\n",
       "\n",
       "    .dataframe thead th {\n",
       "        text-align: right;\n",
       "    }\n",
       "</style>\n",
       "<table border=\"1\" class=\"dataframe\">\n",
       "  <thead>\n",
       "    <tr style=\"text-align: right;\">\n",
       "      <th></th>\n",
       "      <th>importe_tique</th>\n",
       "    </tr>\n",
       "    <tr>\n",
       "      <th>distrito</th>\n",
       "      <th></th>\n",
       "    </tr>\n",
       "  </thead>\n",
       "  <tbody>\n",
       "    <tr>\n",
       "      <th>MONCLOA</th>\n",
       "      <td>7.4 centimos/hora</td>\n",
       "    </tr>\n",
       "    <tr>\n",
       "      <th>FUENCARRAL</th>\n",
       "      <td>4.35 centimos/hora</td>\n",
       "    </tr>\n",
       "    <tr>\n",
       "      <th>CHAMARTIN</th>\n",
       "      <td>26.0 centimos/hora</td>\n",
       "    </tr>\n",
       "    <tr>\n",
       "      <th>CENTRO</th>\n",
       "      <td>2.55 centimos/hora</td>\n",
       "    </tr>\n",
       "    <tr>\n",
       "      <th>CHAMBERI</th>\n",
       "      <td>18.76 centimos/hora</td>\n",
       "    </tr>\n",
       "    <tr>\n",
       "      <th>SALAMANCA</th>\n",
       "      <td>17.85 centimos/hora</td>\n",
       "    </tr>\n",
       "    <tr>\n",
       "      <th>RETIRO</th>\n",
       "      <td>14.36 centimos/hora</td>\n",
       "    </tr>\n",
       "    <tr>\n",
       "      <th>TETUAN</th>\n",
       "      <td>13.11 centimos/hora</td>\n",
       "    </tr>\n",
       "    <tr>\n",
       "      <th>ARGANZUELA</th>\n",
       "      <td>12.94 centimos/hora</td>\n",
       "    </tr>\n",
       "  </tbody>\n",
       "</table>\n",
       "</div>"
      ],
      "text/plain": [
       "                  importe_tique\n",
       "distrito                       \n",
       "MONCLOA       7.4 centimos/hora\n",
       "FUENCARRAL   4.35 centimos/hora\n",
       "CHAMARTIN    26.0 centimos/hora\n",
       "CENTRO       2.55 centimos/hora\n",
       "CHAMBERI    18.76 centimos/hora\n",
       "SALAMANCA   17.85 centimos/hora\n",
       "RETIRO      14.36 centimos/hora\n",
       "TETUAN      13.11 centimos/hora\n",
       "ARGANZUELA  12.94 centimos/hora"
      ]
     },
     "execution_count": 33,
     "metadata": {},
     "output_type": "execute_result"
    }
   ],
   "source": [
    "#Con el agg también podemos introducir funciones creadas por nosotros.\n",
    "minutos = p_distritos['minutos_tique'].sum() / 60\n",
    "custom_distritos = p_distritos.groTotupby(['distrito'])[['importe_tique']]\\\n",
    "                   .agg(custom).sort_values(by='importe_tique', ascending=False)\n",
    "custom_distritos"
   ]
  },
  {
   "cell_type": "markdown",
   "id": "55abd008",
   "metadata": {},
   "source": [
    "---"
   ]
  },
  {
   "cell_type": "markdown",
   "id": "a2bd8fb6",
   "metadata": {},
   "source": [
    "### Now your turn to practice performing the same excercise by _'Barrio'_...\n",
    "\n",
    "![Image](./img/etl_pandas_agg_01.jpg)"
   ]
  }
 ],
 "metadata": {
  "kernelspec": {
   "display_name": "Python [conda env:ironhack]",
   "language": "python",
   "name": "conda-env-ironhack-py"
  },
  "language_info": {
   "codemirror_mode": {
    "name": "ipython",
    "version": 3
   },
   "file_extension": ".py",
   "mimetype": "text/x-python",
   "name": "python",
   "nbconvert_exporter": "python",
   "pygments_lexer": "ipython3",
   "version": "3.7.11"
  }
 },
 "nbformat": 4,
 "nbformat_minor": 5
}
