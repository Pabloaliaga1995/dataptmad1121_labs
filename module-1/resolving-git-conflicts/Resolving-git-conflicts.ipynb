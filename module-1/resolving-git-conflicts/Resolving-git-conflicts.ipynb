{
 "cells": [
  {
   "cell_type": "markdown",
   "id": "dd011b8b-9602-4c89-b79f-217c1efbb920",
   "metadata": {},
   "source": [
    "Hola, soy Pablo. Que tal?"
   ]
  }
 ],
 "metadata": {
  "kernelspec": {
   "display_name": "Python [conda env:ironhack]",
   "language": "python",
   "name": "conda-env-ironhack-py"
  },
  "language_info": {
   "codemirror_mode": {
    "name": "ipython",
    "version": 3
   },
   "file_extension": ".py",
   "mimetype": "text/x-python",
   "name": "python",
   "nbconvert_exporter": "python",
   "pygments_lexer": "ipython3",
   "version": "3.7.11"
  }
 },
 "nbformat": 4,
 "nbformat_minor": 5
}
