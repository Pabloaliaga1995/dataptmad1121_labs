{
 "cells": [
  {
   "cell_type": "code",
   "execution_count": null,
   "id": "ad6472eb-ed2b-4397-9afb-596bd951792e",
   "metadata": {},
   "outputs": [],
   "source": [
    "Hola, soy Pablo"
   ]
  }
 ],
 "metadata": {
  "kernelspec": {
   "display_name": "Python [conda env:ironhack]",
   "language": "python",
   "name": "conda-env-ironhack-py"
  },
  "language_info": {
   "codemirror_mode": {
    "name": "ipython",
    "version": 3
   },
   "file_extension": ".py",
   "mimetype": "text/x-python",
   "name": "python",
   "nbconvert_exporter": "python",
   "pygments_lexer": "ipython3",
   "version": "3.7.11"
  }
 },
 "nbformat": 4,
 "nbformat_minor": 5
}
